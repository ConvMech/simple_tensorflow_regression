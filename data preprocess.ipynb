{
 "cells": [
  {
   "cell_type": "code",
   "execution_count": 2,
   "metadata": {},
   "outputs": [
    {
     "data": {
      "text/plain": [
       "{'divide': 'warn', 'invalid': 'warn', 'over': 'warn', 'under': 'ignore'}"
      ]
     },
     "execution_count": 2,
     "metadata": {},
     "output_type": "execute_result"
    }
   ],
   "source": [
    "from sklearn import preprocessing\n",
    "import numpy as np\n",
    "from sklearn.decomposition import PCA\n",
    "%matplotlib inline\n",
    "import matplotlib.pyplot as plt\n",
    "import matplotlib \n",
    "from mpl_toolkits.mplot3d import Axes3D\n",
    "from matplotlib import cm\n",
    "from matplotlib.mlab import griddata\n",
    "from scipy.interpolate import griddata\n",
    "from matplotlib.ticker import LinearLocator, FormatStrFormatter\n",
    "np.seterr(divide='ignore', invalid='ignore')"
   ]
  },
  {
   "cell_type": "markdown",
   "metadata": {},
   "source": [
    "# generate toy data"
   ]
  },
  {
   "cell_type": "code",
   "execution_count": null,
   "metadata": {},
   "outputs": [],
   "source": [
    "total_generate = 1000\n",
    "x1=np.linspace(2,5,total_generate).reshape((-1,1))\n",
    "x2=np.linspace(0,10,total_generate).reshape((-1,1))\n",
    "x3=np.random.rand(total_generate,1)\n",
    "x4=np.random.rand(total_generate,1)\n",
    "x = np.hstack((x1,x2,x3,x4))\n",
    "print(x.shape)\n",
    "\n",
    "y = np.linspace(0,1,total_generate).reshape((-1,1))\n",
    "print(y.shape)"
   ]
  },
  {
   "cell_type": "markdown",
   "metadata": {},
   "source": [
    "# normalize data"
   ]
  },
  {
   "cell_type": "code",
   "execution_count": null,
   "metadata": {},
   "outputs": [],
   "source": [
    "#x = np.array([[100,3,0.2],[80,4,0.9],[70,2,0.8],[90,1,0.5]])\n",
    "#y = np.array([[1],[2],[3],[4]])\n",
    "\n",
    "def normalization(x):\n",
    "    min_max_scaler = preprocessing.MinMaxScaler()\n",
    "    x_scaled_01 = min_max_scaler.fit_transform(x)\n",
    "    x_scaled_std = preprocessing.scale(x)\n",
    "    return x_scaled_01, x_scaled_std\n",
    "\n",
    "x_scaled_01, x_scaled_std = normalization(x)\n",
    "\n",
    "#print(x_scaled_01)\n",
    "#print(x_scaled_std)"
   ]
  },
  {
   "cell_type": "markdown",
   "metadata": {},
   "source": [
    "# pca and visualize"
   ]
  },
  {
   "cell_type": "code",
   "execution_count": null,
   "metadata": {},
   "outputs": [],
   "source": [
    "def pca_visualization(data,tat):\n",
    "    pca = PCA(n_components=2)\n",
    "    pca.fit(data)\n",
    "    trans = pca.transform(data)\n",
    "    print(\"total variance explained: \")\n",
    "    total = 0\n",
    "    for each in pca.explained_variance_ratio_:\n",
    "        total += each\n",
    "    print(total)\n",
    "    x = trans[:,0].squeeze()\n",
    "    y = trans[:,1].squeeze()\n",
    "    z = tat.squeeze()\n",
    "    \n",
    "    #z[ z > 1 ] = 1\n",
    "    #z[ z < 0 ] = 0\n",
    "\n",
    "    xi = np.linspace(min(x), max(x))\n",
    "    yi = np.linspace(min(y), max(y))\n",
    "    Xg, Yg = np.meshgrid(xi, yi)\n",
    "    Zg = griddata(trans, z, (Xg, Yg), method='nearest')\n",
    "    fig = plt.figure(figsize=(15, 10), dpi= 70)\n",
    "    ax = fig.gca(projection='3d')\n",
    "    #surf = ax.plot_surface(x, y, z, cmap=cm.coolwarm,linewidth=0, antialiased=False)\n",
    "    #ax.plot_surface(x,y,z)\n",
    "    #ax.plot_wireframe(x, y, z, rstride=10, cstride=10)\n",
    "    ax.plot_surface(Xg, Yg, Zg,cmap=cm.coolwarm)\n",
    "    #print(trans)\n",
    "    ax.scatter(x,y,z)\n",
    "    plt.show()\n",
    "\n",
    "pca_visualization(x_scaled_std,y)"
   ]
  }
 ],
 "metadata": {
  "kernelspec": {
   "display_name": "Python 2",
   "language": "python",
   "name": "python2"
  }
 },
 "nbformat": 4,
 "nbformat_minor": 2
}
