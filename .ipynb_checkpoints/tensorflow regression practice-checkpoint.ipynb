{
 "cells": [
  {
   "cell_type": "code",
   "execution_count": 2,
   "metadata": {},
   "outputs": [],
   "source": [
    "import tensorflow as tf\n",
    "import numpy as np"
   ]
  },
  {
   "cell_type": "code",
   "execution_count": 32,
   "metadata": {},
   "outputs": [],
   "source": [
    "data_set = []\n",
    "label_set = []\n",
    "for i in range(1000):\n",
    "    data = range(1,11)\n",
    "    data = [x * i for x in data]\n",
    "    label = [i*5]\n",
    "    data_set.append(data)\n",
    "    label_set.append(label)\n",
    "data_set=np.array(data_set)\n",
    "label_set=np.array(label_set)"
   ]
  },
  {
   "cell_type": "code",
   "execution_count": 33,
   "metadata": {},
   "outputs": [
    {
     "name": "stdout",
     "output_type": "stream",
     "text": [
      "(?, 1)\n",
      "(?, 1)\n",
      "115352210.0\n"
     ]
    }
   ],
   "source": [
    "class Model(object):\n",
    "    def __init__(self):\n",
    "        self.input = tf.placeholder(tf.float32,shape=[None,10],name='input')\n",
    "        self.label = tf.placeholder(tf.float32,shape=[None,1],name='label')\n",
    "        self.global_step = tf.Variable(0, name='global_step',trainable=False)\n",
    "        self.keep_prob = tf.placeholder(tf.float32,name='keep_prob')\n",
    "        \n",
    "    def denselayer_with_dropout(self, input_, out_dim , keep_prob):\n",
    "        dense = tf.layers.dense(inputs=input_, units= out_dim , use_bias = True,\n",
    "                                activation=tf.nn.relu)\n",
    "        return dense\n",
    "    \n",
    "    def inference(self):\n",
    "        dense_out = self.denselayer_with_dropout(self.input,1,1)\n",
    "        return dense_out\n",
    "    \n",
    "    def build_optimizer(self,loss_val,trainable_var,learning_rate):\n",
    "        optimizer = tf.train.AdamOptimizer(learning_rate) \n",
    "        grads = optimizer.compute_gradients(loss_val, var_list=trainable_var)\n",
    "        return optimizer.apply_gradients(grads,global_step=self.global_step)\n",
    "        \n",
    "    def build_train(self,learning_rate):\n",
    "        raw_output = self.inference()\n",
    "        print(raw_output.shape)\n",
    "        print(self.label.shape)\n",
    "        rawloss = tf.losses.mean_squared_error(self.label,raw_output)\n",
    "        loss = tf.reduce_mean(rawloss)\n",
    "        trainable_var = tf.trainable_variables()\n",
    "        train_op = self.build_optimizer(loss,trainable_var,learning_rate)\n",
    "        return train_op,loss\n",
    "    \n",
    "    def before_session_initialization(self,learning_rate):\n",
    "        self.train_op,self.loss_op = self.build_train(learning_rate=learning_rate)\n",
    "        \n",
    "    def after_session_initialization(self,sess):\n",
    "        sess.run(tf.global_variables_initializer())\n",
    "        sess.run(tf.local_variables_initializer())\n",
    "    \n",
    "    def train(self,sess,batch_data,batch_label):\n",
    "        feed_dict = {self.input: batch_data, self.label: batch_label}\n",
    "        _, train_loss = sess.run([self.train_op,self.loss_op], feed_dict=feed_dict)\n",
    "        print(train_loss)\n",
    "        \n",
    "tf.reset_default_graph()\n",
    "model = Model()\n",
    "model.before_session_initialization(learning_rate=1e-3)\n",
    "sess = tf.Session()\n",
    "model.after_session_initialization(sess)\n",
    "model.train(sess,data_set,label_set)"
   ]
  }
 ],
 "metadata": {
  "kernelspec": {
   "display_name": "Python 2",
   "language": "python",
   "name": "python2"
  },
  "language_info": {
   "codemirror_mode": {
    "name": "ipython",
    "version": 2
   },
   "file_extension": ".py",
   "mimetype": "text/x-python",
   "name": "python",
   "nbconvert_exporter": "python",
   "pygments_lexer": "ipython2",
   "version": "2.7.14"
  }
 },
 "nbformat": 4,
 "nbformat_minor": 2
}
